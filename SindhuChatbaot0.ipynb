{
  "nbformat": 4,
  "nbformat_minor": 0,
  "metadata": {
    "colab": {
      "provenance": [],
      "authorship_tag": "ABX9TyMo+Tdi197ReeqU5QQaquCb",
      "include_colab_link": true
    },
    "kernelspec": {
      "name": "python3",
      "display_name": "Python 3"
    },
    "language_info": {
      "name": "python"
    }
  },
  "cells": [
    {
      "cell_type": "markdown",
      "metadata": {
        "id": "view-in-github",
        "colab_type": "text"
      },
      "source": [
        "<a href=\"https://colab.research.google.com/github/Sindhusworld/my_website/blob/main/SindhuChatbaot0.ipynb\" target=\"_parent\"><img src=\"https://colab.research.google.com/assets/colab-badge.svg\" alt=\"Open In Colab\"/></a>"
      ]
    },
    {
      "cell_type": "code",
      "source": [
        "!pip install nltk\n",
        "!pip install numpy\n",
        "!pip install pandas\n",
        "!pip install matplotlib\n",
        "!pip install seaborn\n"
      ],
      "metadata": {
        "colab": {
          "base_uri": "https://localhost:8080/"
        },
        "id": "6hcxWr5a0_WJ",
        "outputId": "28880642-61bc-4661-d4b6-98cced50b860"
      },
      "execution_count": null,
      "outputs": [
        {
          "output_type": "stream",
          "name": "stdout",
          "text": [
            "Requirement already satisfied: nltk in /usr/local/lib/python3.10/dist-packages (3.9.1)\n",
            "Requirement already satisfied: click in /usr/local/lib/python3.10/dist-packages (from nltk) (8.1.7)\n",
            "Requirement already satisfied: joblib in /usr/local/lib/python3.10/dist-packages (from nltk) (1.4.2)\n",
            "Requirement already satisfied: regex>=2021.8.3 in /usr/local/lib/python3.10/dist-packages (from nltk) (2024.9.11)\n",
            "Requirement already satisfied: tqdm in /usr/local/lib/python3.10/dist-packages (from nltk) (4.66.6)\n",
            "Requirement already satisfied: numpy in /usr/local/lib/python3.10/dist-packages (1.26.4)\n",
            "Requirement already satisfied: pandas in /usr/local/lib/python3.10/dist-packages (2.2.2)\n",
            "Requirement already satisfied: numpy>=1.22.4 in /usr/local/lib/python3.10/dist-packages (from pandas) (1.26.4)\n",
            "Requirement already satisfied: python-dateutil>=2.8.2 in /usr/local/lib/python3.10/dist-packages (from pandas) (2.8.2)\n",
            "Requirement already satisfied: pytz>=2020.1 in /usr/local/lib/python3.10/dist-packages (from pandas) (2024.2)\n",
            "Requirement already satisfied: tzdata>=2022.7 in /usr/local/lib/python3.10/dist-packages (from pandas) (2024.2)\n",
            "Requirement already satisfied: six>=1.5 in /usr/local/lib/python3.10/dist-packages (from python-dateutil>=2.8.2->pandas) (1.16.0)\n",
            "Requirement already satisfied: matplotlib in /usr/local/lib/python3.10/dist-packages (3.8.0)\n",
            "Requirement already satisfied: contourpy>=1.0.1 in /usr/local/lib/python3.10/dist-packages (from matplotlib) (1.3.0)\n",
            "Requirement already satisfied: cycler>=0.10 in /usr/local/lib/python3.10/dist-packages (from matplotlib) (0.12.1)\n",
            "Requirement already satisfied: fonttools>=4.22.0 in /usr/local/lib/python3.10/dist-packages (from matplotlib) (4.54.1)\n",
            "Requirement already satisfied: kiwisolver>=1.0.1 in /usr/local/lib/python3.10/dist-packages (from matplotlib) (1.4.7)\n",
            "Requirement already satisfied: numpy<2,>=1.21 in /usr/local/lib/python3.10/dist-packages (from matplotlib) (1.26.4)\n",
            "Requirement already satisfied: packaging>=20.0 in /usr/local/lib/python3.10/dist-packages (from matplotlib) (24.2)\n",
            "Requirement already satisfied: pillow>=6.2.0 in /usr/local/lib/python3.10/dist-packages (from matplotlib) (11.0.0)\n",
            "Requirement already satisfied: pyparsing>=2.3.1 in /usr/local/lib/python3.10/dist-packages (from matplotlib) (3.2.0)\n",
            "Requirement already satisfied: python-dateutil>=2.7 in /usr/local/lib/python3.10/dist-packages (from matplotlib) (2.8.2)\n",
            "Requirement already satisfied: six>=1.5 in /usr/local/lib/python3.10/dist-packages (from python-dateutil>=2.7->matplotlib) (1.16.0)\n",
            "Requirement already satisfied: seaborn in /usr/local/lib/python3.10/dist-packages (0.13.2)\n",
            "Requirement already satisfied: numpy!=1.24.0,>=1.20 in /usr/local/lib/python3.10/dist-packages (from seaborn) (1.26.4)\n",
            "Requirement already satisfied: pandas>=1.2 in /usr/local/lib/python3.10/dist-packages (from seaborn) (2.2.2)\n",
            "Requirement already satisfied: matplotlib!=3.6.1,>=3.4 in /usr/local/lib/python3.10/dist-packages (from seaborn) (3.8.0)\n",
            "Requirement already satisfied: contourpy>=1.0.1 in /usr/local/lib/python3.10/dist-packages (from matplotlib!=3.6.1,>=3.4->seaborn) (1.3.0)\n",
            "Requirement already satisfied: cycler>=0.10 in /usr/local/lib/python3.10/dist-packages (from matplotlib!=3.6.1,>=3.4->seaborn) (0.12.1)\n",
            "Requirement already satisfied: fonttools>=4.22.0 in /usr/local/lib/python3.10/dist-packages (from matplotlib!=3.6.1,>=3.4->seaborn) (4.54.1)\n",
            "Requirement already satisfied: kiwisolver>=1.0.1 in /usr/local/lib/python3.10/dist-packages (from matplotlib!=3.6.1,>=3.4->seaborn) (1.4.7)\n",
            "Requirement already satisfied: packaging>=20.0 in /usr/local/lib/python3.10/dist-packages (from matplotlib!=3.6.1,>=3.4->seaborn) (24.2)\n",
            "Requirement already satisfied: pillow>=6.2.0 in /usr/local/lib/python3.10/dist-packages (from matplotlib!=3.6.1,>=3.4->seaborn) (11.0.0)\n",
            "Requirement already satisfied: pyparsing>=2.3.1 in /usr/local/lib/python3.10/dist-packages (from matplotlib!=3.6.1,>=3.4->seaborn) (3.2.0)\n",
            "Requirement already satisfied: python-dateutil>=2.7 in /usr/local/lib/python3.10/dist-packages (from matplotlib!=3.6.1,>=3.4->seaborn) (2.8.2)\n",
            "Requirement already satisfied: pytz>=2020.1 in /usr/local/lib/python3.10/dist-packages (from pandas>=1.2->seaborn) (2024.2)\n",
            "Requirement already satisfied: tzdata>=2022.7 in /usr/local/lib/python3.10/dist-packages (from pandas>=1.2->seaborn) (2024.2)\n",
            "Requirement already satisfied: six>=1.5 in /usr/local/lib/python3.10/dist-packages (from python-dateutil>=2.7->matplotlib!=3.6.1,>=3.4->seaborn) (1.16.0)\n"
          ]
        }
      ]
    },
    {
      "cell_type": "code",
      "source": [
        "import nltk\n",
        "import pandas as pd\n",
        "import numpy as np\n",
        "import matplotlib.pyplot as plt\n",
        "import seaborn as sns\n",
        "from nltk.chat.util import Chat, reflections\n",
        "from nltk.sentiment.vader import SentimentIntensityAnalyzer\n",
        "import datetime\n"
      ],
      "metadata": {
        "id": "lKcLB-dN2Cjk"
      },
      "execution_count": null,
      "outputs": []
    },
    {
      "cell_type": "code",
      "source": [
        "nltk.download('punkt')\n",
        "nltk.download('vader_lexicon')\n"
      ],
      "metadata": {
        "colab": {
          "base_uri": "https://localhost:8080/"
        },
        "id": "vF1xjZU538RX",
        "outputId": "868eee6d-645d-4aa6-db3b-ecd9620a5ee6"
      },
      "execution_count": null,
      "outputs": [
        {
          "output_type": "stream",
          "name": "stderr",
          "text": [
            "[nltk_data] Downloading package punkt to /root/nltk_data...\n",
            "[nltk_data]   Unzipping tokenizers/punkt.zip.\n",
            "[nltk_data] Downloading package vader_lexicon to /root/nltk_data...\n"
          ]
        },
        {
          "output_type": "execute_result",
          "data": {
            "text/plain": [
              "True"
            ]
          },
          "metadata": {},
          "execution_count": 13
        }
      ]
    },
    {
      "cell_type": "code",
      "source": [
        "\n",
        "# Define chatbot patterns and responses\n",
        "patterns_responses = [\n",
        "    (r'hi|hello|hey', ['Hello!', 'Hi there!', 'Hey! How can I help you?']),\n",
        "    (r'what is your name?', ['I am a simple chatbot created to help you.']),\n",
        "    (r'how are you?', ['I am doing great, thanks for asking! How about you?']),\n",
        "    (r'I need help', ['Sure! What do you need help with?']),\n",
        "    (r'bye|exit|quit', ['Goodbye! Have a great day!']),\n",
        "    (r'(.*)', ['Sorry, I didn’t understand that. Can you ask something else?'])\n",
        "]\n",
        "\n",
        "# Create a chatbot using the defined patterns and responses\n",
        "chatbot = Chat(patterns_responses, reflections)"
      ],
      "metadata": {
        "id": "L0mdx3wN4beD"
      },
      "execution_count": null,
      "outputs": []
    },
    {
      "cell_type": "code",
      "source": [
        "# Create an empty dataframe to log conversations\n",
        "columns = ['timestamp', 'user_input', 'chatbot_response']\n",
        "chat_log = pd.DataFrame(columns=columns)\n",
        "\n",
        "# Function to log chat interactions\n",
        "def log_chat(user_input, chatbot_response):\n",
        "    timestamp = datetime.datetime.now().strftime('%Y-%m-%d %H:%M:%S')\n",
        "    new_entry = pd.DataFrame([[timestamp, user_input, chatbot_response]], columns=columns)\n",
        "    return pd.concat([chat_log, new_entry], ignore_index=True)\n"
      ],
      "metadata": {
        "id": "nWvYigf05G4r"
      },
      "execution_count": null,
      "outputs": []
    },
    {
      "cell_type": "code",
      "source": [
        "print(\"Hello! I am your chatbot. Type 'bye' to exit.\")\n",
        "\n",
        "# Start chatting\n",
        "while True:\n",
        "    user_input = input(\"You: \")\n",
        "    if user_input.lower() == 'bye':\n",
        "        print(\"Chatbot: Goodbye! Have a great day!\")\n",
        "        break\n",
        "    response = chatbot.respond(user_input)\n",
        "    print(\"Chatbot:\", response)\n",
        "\n",
        "    # Log the conversation\n",
        "    chat_log = log_chat(user_input, response)\n"
      ],
      "metadata": {
        "colab": {
          "base_uri": "https://localhost:8080/"
        },
        "id": "Fbp2hkaj55iH",
        "outputId": "861c10b1-ed6a-484d-ce88-0ce82832af5f"
      },
      "execution_count": null,
      "outputs": [
        {
          "output_type": "stream",
          "name": "stdout",
          "text": [
            "Hello! I am your chatbot. Type 'bye' to exit.\n",
            "You: hi\n",
            "Chatbot: Hi there!\n",
            "You: how are you\n",
            "Chatbot: I am doing great, thanks for asking! How about you?\n",
            "You: i am sindhu\n",
            "Chatbot: Sorry, I didn’t understand that. Can you ask something else?\n",
            "You: its my name\n",
            "Chatbot: Sorry, I didn’t understand that. Can you ask something else?\n",
            "You: whats todays time\n",
            "Chatbot: Sorry, I didn’t understand that. Can you ask something else?\n",
            "You: by\n",
            "Chatbot: Sorry, I didn’t understand that. Can you ask something else?\n",
            "You: i need help\n",
            "Chatbot: Sure! What do you need help with?\n",
            "You: may be with some code\n",
            "Chatbot: Sorry, I didn’t understand that. Can you ask something else?\n",
            "You: hello\n",
            "Chatbot: Hi there!\n",
            "You: exit\n",
            "Chatbot: Goodbye! Have a great day!\n",
            "You: bye\n",
            "Chatbot: Goodbye! Have a great day!\n"
          ]
        }
      ]
    },
    {
      "cell_type": "code",
      "source": [
        "# Count how often each unique user input appears in the dataset\n",
        "input_counts = chat_log['user_input'].value_counts()\n",
        "\n",
        "# Display the top 5 most common user inputs\n",
        "print(input_counts.head())\n"
      ],
      "metadata": {
        "colab": {
          "base_uri": "https://localhost:8080/"
        },
        "id": "5bEjsJGR79RC",
        "outputId": "2414b8c3-6bab-4150-d687-0a3fe1da0a4a"
      },
      "execution_count": null,
      "outputs": [
        {
          "output_type": "stream",
          "name": "stdout",
          "text": [
            "user_input\n",
            "hi                   1\n",
            "how are you          1\n",
            "i am sindhu          1\n",
            "its my name          1\n",
            "whats todays time    1\n",
            "Name: count, dtype: int64\n"
          ]
        }
      ]
    },
    {
      "cell_type": "code",
      "source": [
        "# Initialize sentiment analyzer\n",
        "sia = SentimentIntensityAnalyzer()\n",
        "\n",
        "# Function to get sentiment score\n",
        "def analyze_sentiment(text):\n",
        "    score = sia.polarity_scores(text)\n",
        "    return score\n",
        "\n",
        "# Example sentiment analysis\n",
        "user_input = \"I am feeling great!\"\n",
        "sentiment = analyze_sentiment(user_input)\n",
        "print(sentiment)  # Output will be a dictionary with positive, negative, neutral scores\n"
      ],
      "metadata": {
        "colab": {
          "base_uri": "https://localhost:8080/"
        },
        "id": "afP4gcyL-mAg",
        "outputId": "b8eaf7e4-4569-4886-af61-b70c3856ac39"
      },
      "execution_count": null,
      "outputs": [
        {
          "output_type": "stream",
          "name": "stdout",
          "text": [
            "{'neg': 0.0, 'neu': 0.145, 'pos': 0.855, 'compound': 0.7088}\n"
          ]
        }
      ]
    },
    {
      "cell_type": "code",
      "source": [
        "# Plot top 10 most common user inputs\n",
        "input_counts.head(10).plot(kind='bar', color='skyblue')\n",
        "plt.title('Top 10 User Inputs')\n",
        "plt.xlabel('User Input')\n",
        "plt.ylabel('Frequency')\n",
        "plt.xticks(rotation=45, ha='right')\n",
        "plt.show()\n"
      ],
      "metadata": {
        "colab": {
          "base_uri": "https://localhost:8080/",
          "height": 585
        },
        "id": "-UGQHUQZ-xo4",
        "outputId": "6a14d480-07f4-4305-a5b7-23cd6a71d71e"
      },
      "execution_count": null,
      "outputs": [
        {
          "output_type": "display_data",
          "data": {
            "text/plain": [
              "<Figure size 640x480 with 1 Axes>"
            ],
            "image/png": "[encoded data removed]"
          },
          "metadata": {}
        }
      ]
    },
    {
      "cell_type": "code",
      "source": [
        "# Calculate sentiment for all user inputs\n",
        "sentiments = chat_log['user_input'].apply(lambda x: analyze_sentiment(x)['compound'])\n",
        "\n",
        "# Create a sentiment distribution plot\n",
        "plt.hist(sentiments, bins=10, color='lightgreen')\n",
        "plt.title('Sentiment Distribution of User Inputs')\n",
        "plt.xlabel('Sentiment Score')\n",
        "plt.ylabel('Frequency')\n",
        "plt.show()\n"
      ],
      "metadata": {
        "colab": {
          "base_uri": "https://localhost:8080/",
          "height": 472
        },
        "id": "5LrfsUs8-3Uk",
        "outputId": "6c1a26a1-1a39-4618-99de-37c45ea199f1"
      },
      "execution_count": null,
      "outputs": [
        {
          "output_type": "display_data",
          "data": {
            "text/plain": [
              "<Figure size 640x480 with 1 Axes>"
            ],
            "image/png": "[encoded data removed]"
          },
          "metadata": {}
        }
      ]
    },
    {
      "cell_type": "code",
      "source": [
        "from IPython.display import HTML\n",
        "\n",
        "# Example HTML content with output embedded (like tables or text)\n",
        "html_content = \"\"\"\n",
        "<html>\n",
        "  <head>\n",
        "    <title>Chatbot Interaction Results</title>\n",
        "  </head>\n",
        "  <body>\n",
        "    <h1>Chatbot Interaction Results</h1>\n",
        "    <p>Here are the results from the chatbot interactions:</p>\n",
        "    <table border=\"1\">\n",
        "      <tr><th>Timestamp</th><th>User Input</th><th>Chatbot Response</th></tr>\n",
        "      <tr><td>2024-11-01 12:00:00</td><td>Hi</td><td>Hello!</td></tr>\n",
        "      <tr><td>2024-11-01 12:05:00</td><td>What is your name?</td><td>I am a chatbot created to help you.</td></tr>\n",
        "      <tr><td>2024-11-01 12:10:00</td><td>I need help</td><td>Sure! What do you need help with?</td></tr>\n",
        "      <!-- Add other rows of results here -->\n",
        "    </table>\n",
        "    <br>\n",
        "    <h2>Visual Output</h2>\n",
        "    <img src=\"your_image_link_here.png\" alt=\"Chatbot Interaction Graph\">\n",
        "  </body>\n",
        "</html>\n",
        "\"\"\"\n",
        "\n",
        "# Save the HTML content to a file in a correct location\n",
        "file_path = '/content/chatbot_output_page.html'\n",
        "with open(file_path, 'w') as file:\n",
        "    file.write(html_content)\n",
        "\n",
        "# Provide a download link for the HTML page\n",
        "HTML(f\"<a href='{file_path}' download>Download the output page</a>\")\n"
      ],
      "metadata": {
        "id": "ColBDClW--ki",
        "colab": {
          "base_uri": "https://localhost:8080/",
          "height": 34
        },
        "outputId": "076fb055-219a-4d30-ac5a-a955b639841f"
      },
      "execution_count": null,
      "outputs": [
        {
          "output_type": "execute_result",
          "data": {
            "text/plain": [
              "<IPython.core.display.HTML object>"
            ],
            "text/html": [
              "<a href='/content/chatbot_output_page.html' download>Download the output page</a>"
            ]
          },
          "metadata": {},
          "execution_count": 29
        }
      ]
    },
    {
      "cell_type": "code",
      "source": [
        "from IPython.display import HTML\n",
        "\n",
        "# Example HTML content with output embedded (like tables or text)\n",
        "html_content = \"\"\"\n",
        "<html>\n",
        "  <head>\n",
        "    <title>Chatbot Interaction Results</title>\n",
        "  </head>\n",
        "  <body>\n",
        "    <h1>Chatbot Interaction Results</h1>\n",
        "    <p>Here are the results from the chatbot interactions:</p>\n",
        "    <table border=\"1\">\n",
        "      <tr><th>Timestamp</th><th>User Input</th><th>Chatbot Response</th></tr>\n",
        "      <tr><td>2024-11-01 12:00:00</td><td>Hi</td><td>Hello!</td></tr>\n",
        "      <tr><td>2024-11-01 12:05:00</td><td>What is your name?</td><td>I am a chatbot created to help you.</td></tr>\n",
        "      <tr><td>2024-11-01 12:10:00</td><td>I need help</td><td>Sure! What do you need help with?</td></tr>\n",
        "    </table>\n",
        "    <br>\n",
        "    <h2>Visual Output</h2>\n",
        "    <img src=\"your_image_link_here.png\" alt=\"Chatbot Interaction Graph\">\n",
        "  </body>\n",
        "</html>\n",
        "\"\"\"\n",
        "\n",
        "# Save the HTML content to a file in the current directory\n",
        "file_path = '/content/chatbot_output_page.html'\n",
        "with open(file_path, 'w') as file:\n",
        "    file.write(html_content)\n",
        "\n",
        "# Provide a link for downloading the HTML file\n",
        "HTML(f\"<a href='{file_path}' download>Click here to download the HTML output</a>\")\n"
      ],
      "metadata": {
        "colab": {
          "base_uri": "https://localhost:8080/",
          "height": 34
        },
        "id": "D1xv5lggA3ES",
        "outputId": "09077a21-4b65-4dd6-f2c4-30f24e252966"
      },
      "execution_count": null,
      "outputs": [
        {
          "output_type": "execute_result",
          "data": {
            "text/plain": [
              "<IPython.core.display.HTML object>"
            ],
            "text/html": [
              "<a href='/content/chatbot_output_page.html' download>Click here to download the HTML output</a>"
            ]
          },
          "metadata": {},
          "execution_count": 30
        }
      ]
    },
    {
      "cell_type": "code",
      "source": [
        "# Example HTML content with output embedded (like tables or text)\n",
        "html_content = \"\"\"\n",
        "<html>\n",
        "  <head>\n",
        "    <title>Chatbot Interaction Results</title>\n",
        "  </head>\n",
        "  <body>\n",
        "    <h1>Chatbot Interaction Results</h1>\n",
        "    <p>Here are the results from the chatbot interactions:</p>\n",
        "    <table border=\"1\">\n",
        "      <tr><th>Timestamp</th><th>User Input</th><th>Chatbot Response</th></tr>\n",
        "      <tr><td>2024-11-01 12:00:00</td><td>Hi</td><td>Hello!</td></tr>\n",
        "      <tr><td>2024-11-01 12:05:00</td><td>What is your name?</td><td>I am a chatbot created to help you.</td></tr>\n",
        "      <tr><td>2024-11-01 12:10:00</td><td>I need help</td><td>Sure! What do you need help with?</td></tr>\n",
        "    </table>\n",
        "    <br>\n",
        "    <h2>Visual Output</h2>\n",
        "    <img src=\"your_image_link_here.png\" alt=\"Chatbot Interaction Graph\">\n",
        "  </body>\n",
        "</html>\n",
        "\"\"\"\n",
        "\n",
        "# Save the HTML content to a file in Colab\n",
        "file_path = '/content/chatbot_output_page.html'\n",
        "with open(file_path, 'w') as file:\n",
        "    file.write(html_content)\n",
        "\n",
        "# Provide a download link\n",
        "from IPython.display import HTML\n",
        "HTML(f\"<a href='{file_path}' download>Click here to download the HTML output</a>\")\n"
      ],
      "metadata": {
        "colab": {
          "base_uri": "https://localhost:8080/",
          "height": 34
        },
        "id": "FUFA8qmfBH84",
        "outputId": "e03f27c6-2258-4dcf-a7b5-431f5f170afd"
      },
      "execution_count": null,
      "outputs": [
        {
          "output_type": "execute_result",
          "data": {
            "text/plain": [
              "<IPython.core.display.HTML object>"
            ],
            "text/html": [
              "<a href='/content/chatbot_output_page.html' download>Click here to download the HTML output</a>"
            ]
          },
          "metadata": {},
          "execution_count": 31
        }
      ]
    }
  ]
}